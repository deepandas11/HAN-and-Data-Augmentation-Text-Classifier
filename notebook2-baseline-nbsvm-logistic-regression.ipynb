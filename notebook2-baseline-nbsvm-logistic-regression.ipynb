{
  "cells": [
    {
      "metadata": {
        "_cell_guid": "d3b04218-0413-4e6c-8751-5d8a404d73a9",
        "_uuid": "0bca9739b82d5d51e1229243e03ea1b6db35c17e"
      },
      "cell_type": "markdown",
      "source": "## Introduction\n\n NBSVM (Naive Bayes - Support Vector Machine) to create a strong baseline for the Toxic Comment Classification Challenge. Use logistic regression rather than SVM. "
    },
    {
      "metadata": {
        "_cell_guid": "ef06cd19-66b6-46bc-bf45-184e12d3f7d4",
        "_uuid": "cca038ca9424a3f66e10262fc9129de807b5f855",
        "trusted": true
      },
      "cell_type": "code",
      "source": "import pandas as pd\nimport numpy as np\nfrom sklearn.linear_model import LogisticRegression\nfrom sklearn.feature_extraction.text import CountVectorizer, TfidfVectorizer",
      "execution_count": 2,
      "outputs": []
    },
    {
      "metadata": {
        "_cell_guid": "a494f561-0c2f-4a38-8973-6b60c22da357",
        "_uuid": "f70ebe669fcf6b434c595cf6fb7a76120bf7809c",
        "trusted": true
      },
      "cell_type": "code",
      "source": "train = pd.read_csv('../input/train.csv')\ntest = pd.read_csv('../input/test.csv')\nsubm = pd.read_csv('../input/sample_submission.csv')",
      "execution_count": 3,
      "outputs": []
    },
    {
      "metadata": {
        "_cell_guid": "fd3fe158-4d7f-4b30-ac15-42605240ea4f",
        "_uuid": "9c1a3f81397199fa250a2b642edc7fbc5f9f504e",
        "trusted": true
      },
      "cell_type": "code",
      "source": "lens = train.comment_text.str.len()\n#Using the Hist function to check on the various lengths of the comments\nlens.hist()",
      "execution_count": 6,
      "outputs": [
        {
          "output_type": "execute_result",
          "execution_count": 6,
          "data": {
            "text/plain": "<matplotlib.axes._subplots.AxesSubplot at 0x7f1b67735668>"
          },
          "metadata": {}
        },
        {
          "output_type": "display_data",
          "data": {
            "text/plain": "<Figure size 432x288 with 1 Axes>",
            "image/png": "[encoded data removed]"
          },
          "metadata": {}
        }
      ]
    },
    {
      "metadata": {
        "_cell_guid": "b8515824-b2dd-4c95-bbf9-dc74c80355db",
        "_uuid": "0151ab55887071aed82d297acb2c6545ed964c2b"
      },
      "cell_type": "markdown",
      "source": "We'll create a list of all the labels to predict, and we'll also create a 'none' label so we can see how many comments have no labels. We can then summarize the dataset."
    },
    {
      "metadata": {
        "_cell_guid": "c66f79d1-1d9f-4d94-82c1-8026af198f2a",
        "_uuid": "4ba6ef86c82f073bf411785d971a694348c3efa9",
        "trusted": true
      },
      "cell_type": "code",
      "source": "label_cols = ['toxic', 'severe_toxic', 'obscene', 'threat', 'insult', 'identity_hate']\n#If a comment is non toxic we introduce a category called none and assign corresponding labels\ntrain['none'] = 1-train[label_cols].max(axis=1)\ntrain.head()",
      "execution_count": 9,
      "outputs": [
        {
          "output_type": "execute_result",
          "execution_count": 9,
          "data": {
            "text/plain": "                 id ...  none\n0  0000997932d777bf ...     1\n1  000103f0d9cfb60f ...     1\n2  000113f07ec002fd ...     1\n3  0001b41b1c6bb37e ...     1\n4  0001d958c54c6e35 ...     1\n\n[5 rows x 9 columns]",
            "text/html": "<div>\n<style scoped>\n    .dataframe tbody tr th:only-of-type {\n        vertical-align: middle;\n    }\n\n    .dataframe tbody tr th {\n        vertical-align: top;\n    }\n\n    .dataframe thead th {\n        text-align: right;\n    }\n</style>\n<table border=\"1\" class=\"dataframe\">\n  <thead>\n    <tr style=\"text-align: right;\">\n      <th></th>\n      <th>id</th>\n      <th>comment_text</th>\n      <th>toxic</th>\n      <th>severe_toxic</th>\n      <th>obscene</th>\n      <th>threat</th>\n      <th>insult</th>\n      <th>identity_hate</th>\n      <th>none</th>\n    </tr>\n  </thead>\n  <tbody>\n    <tr>\n      <th>0</th>\n      <td>0000997932d777bf</td>\n      <td>Explanation\\nWhy the edits made under my usern...</td>\n      <td>0</td>\n      <td>0</td>\n      <td>0</td>\n      <td>0</td>\n      <td>0</td>\n      <td>0</td>\n      <td>1</td>\n    </tr>\n    <tr>\n      <th>1</th>\n      <td>000103f0d9cfb60f</td>\n      <td>D'aww! He matches this background colour I'm s...</td>\n      <td>0</td>\n      <td>0</td>\n      <td>0</td>\n      <td>0</td>\n      <td>0</td>\n      <td>0</td>\n      <td>1</td>\n    </tr>\n    <tr>\n      <th>2</th>\n      <td>000113f07ec002fd</td>\n      <td>Hey man, I'm really not trying to edit war. It...</td>\n      <td>0</td>\n      <td>0</td>\n      <td>0</td>\n      <td>0</td>\n      <td>0</td>\n      <td>0</td>\n      <td>1</td>\n    </tr>\n    <tr>\n      <th>3</th>\n      <td>0001b41b1c6bb37e</td>\n      <td>\"\\nMore\\nI can't make any real suggestions on ...</td>\n      <td>0</td>\n      <td>0</td>\n      <td>0</td>\n      <td>0</td>\n      <td>0</td>\n      <td>0</td>\n      <td>1</td>\n    </tr>\n    <tr>\n      <th>4</th>\n      <td>0001d958c54c6e35</td>\n      <td>You, sir, are my hero. Any chance you remember...</td>\n      <td>0</td>\n      <td>0</td>\n      <td>0</td>\n      <td>0</td>\n      <td>0</td>\n      <td>0</td>\n      <td>1</td>\n    </tr>\n  </tbody>\n</table>\n</div>"
          },
          "metadata": {}
        }
      ]
    },
    {
      "metadata": {
        "_cell_guid": "1b221e62-e23f-422a-939d-6747edf2d613",
        "_uuid": "bfdcf59624717b37ca4ffc0c99d2c28a2d419b06"
      },
      "cell_type": "markdown",
      "source": "There are a few empty comments that we need to get rid of, otherwise sklearn will complain."
    },
    {
      "metadata": {
        "_cell_guid": "fdba531c-7ef2-4967-88e2-fc2b04f6f2ef",
        "_uuid": "1e1229f403225f1889c7a7b4fc9be90fda818af5",
        "trusted": true
      },
      "cell_type": "code",
      "source": "#Filling out missing comments\n\nCOMMENT = 'comment_text'\ntrain[COMMENT].fillna(\"nan\", inplace=True)\ntest[COMMENT].fillna(\"nan\", inplace=True)",
      "execution_count": 11,
      "outputs": []
    },
    {
      "metadata": {
        "_cell_guid": "480780f1-00c0-4f9a-81e5-fc1932516a80",
        "_uuid": "f2e77e8e6df5e29b620c7a2a0add1438c35af932"
      },
      "cell_type": "markdown",
      "source": "## Building the model\n\n*  create a *bag of words* representation\n*  as a *term document matrix* while using ngrams"
    },
    {
      "metadata": {
        "_cell_guid": "b7f11db7-5c12-4eb8-9f2d-0323d629fed9",
        "_uuid": "b043a3fb66c443fab0129e863c134ec813dadb87",
        "trusted": true
      },
      "cell_type": "code",
      "source": "#Define Regex tokenize function to accomplish Tokenization task\nimport re, string\nre_tok = re.compile(f'([{string.punctuation}“”¨«»®´·º½¾¿¡§£₤‘’])')\ndef tokenize(s): return re_tok.sub(r' \\1 ', s).split()",
      "execution_count": 12,
      "outputs": []
    },
    {
      "metadata": {
        "_cell_guid": "bfdebf11-133c-4b12-8664-8bf64757d6cc",
        "_uuid": "941759df15c71d42853515e4d1006f4ab000ce75"
      },
      "cell_type": "markdown",
      "source": "It turns out that using TF-IDF gives even better priors than the binarized features used in the paper. I don't think this has been mentioned in any paper before, but it improves leaderboard score from 0.59 to 0.55."
    },
    {
      "metadata": {
        "_cell_guid": "31ad6c98-d054-426c-b3bd-b3b18f52eb6f",
        "_uuid": "75f3f27d56fb2d7d539e65c292d9e77c92ceead3",
        "trusted": true
      },
      "cell_type": "code",
      "source": "#Obtain TF-IDF vectors \nn = train.shape[0]\nvec = TfidfVectorizer(ngram_range=(1,2), tokenizer=tokenize,\n               min_df=3, max_df=0.9, strip_accents='unicode', use_idf=1,\n               smooth_idf=1, sublinear_tf=1 )\ntrn_term_doc = vec.fit_transform(train[COMMENT])\ntest_term_doc = vec.transform(test[COMMENT])",
      "execution_count": 17,
      "outputs": []
    },
    {
      "metadata": {
        "trusted": true,
        "_uuid": "e17678ff299675f2cb13e826eac6e684efb67f80"
      },
      "cell_type": "code",
      "source": "#All features corresponding to the Tokenizer used here\nlen(vec.get_feature_names())",
      "execution_count": 25,
      "outputs": [
        {
          "output_type": "execute_result",
          "execution_count": 25,
          "data": {
            "text/plain": "426005"
          },
          "metadata": {}
        }
      ]
    },
    {
      "metadata": {
        "_cell_guid": "4cf3ec26-8237-452b-90c9-831cb0297955",
        "_uuid": "6d215bc460e64d88b08f501d5c5a67c290e40635"
      },
      "cell_type": "markdown",
      "source": "This creates a *sparse matrix* with only a small number of non-zero elements (*stored elements* in the representation  below)."
    },
    {
      "metadata": {
        "_cell_guid": "4c7bdbcc-4451-4477-944c-772e99bac777",
        "_uuid": "8816cc35f66b9fed9c12978fbdef5bb68fae10f4",
        "trusted": true
      },
      "cell_type": "code",
      "source": "#Document Term Matrices\ntrn_term_doc, test_term_doc",
      "execution_count": 24,
      "outputs": [
        {
          "output_type": "execute_result",
          "execution_count": 24,
          "data": {
            "text/plain": "(<159571x426005 sparse matrix of type '<class 'numpy.float64'>'\n \twith 17775104 stored elements in Compressed Sparse Row format>,\n <153164x426005 sparse matrix of type '<class 'numpy.float64'>'\n \twith 14765755 stored elements in Compressed Sparse Row format>)"
          },
          "metadata": {}
        }
      ]
    },
    {
      "metadata": {
        "_cell_guid": "45fc6070-ba13-455b-9274-5c2611e2809c",
        "_uuid": "8b277f01cecd575ed4fcae2e630c0dd8ce979793",
        "trusted": true
      },
      "cell_type": "code",
      "source": "#Basic Naive Bayes Equation\n\ndef pr(y_i, y):\n    p = x[y==y_i].sum(0)\n    return (p+1) / ((y==y_i).sum()+1)",
      "execution_count": 27,
      "outputs": []
    },
    {
      "metadata": {
        "_cell_guid": "2299d24b-5515-4d37-92d9-e7f6b16a290a",
        "_uuid": "926eaa2e40e588f4ef2b86e0a28f8e575c9ed5f4",
        "trusted": true
      },
      "cell_type": "code",
      "source": "x = trn_term_doc\ntest_x = test_term_doc",
      "execution_count": 28,
      "outputs": []
    },
    {
      "metadata": {
        "_cell_guid": "c0b494ac-0dfc-4faa-a909-0a6d7696d1fc",
        "_uuid": "dc5cafeab86d17ac4f036d58658437636a885a87"
      },
      "cell_type": "markdown",
      "source": "Fit a model for one dependent at a time:"
    },
    {
      "metadata": {
        "_cell_guid": "b756c889-a383-4952-9ee9-eca79fd3454f",
        "_uuid": "8652ab2f5f84e77fa395252be9b60be1e44fd583",
        "trusted": true
      },
      "cell_type": "code",
      "source": "def get_mdl(y):\n    y = y.values\n    r = np.log(pr(1,y) / pr(0,y))\n    m = LogisticRegression(C=4, dual=True)\n    x_nb = x.multiply(r)\n    return m.fit(x_nb, y), r",
      "execution_count": 29,
      "outputs": []
    },
    {
      "metadata": {
        "_cell_guid": "33fd5f8c-adfc-45a1-9fde-1769a0993e76",
        "_uuid": "0fa103b5406aabdc36ea9ef21612d343e4982fc4",
        "trusted": true
      },
      "cell_type": "code",
      "source": "preds = np.zeros((len(test), len(label_cols)))\n\nfor i, j in enumerate(label_cols):\n    print('fit', j)\n    m,r = get_mdl(train[j])\n    preds[:,i] = m.predict_proba(test_x.multiply(r))[:,1]",
      "execution_count": 30,
      "outputs": [
        {
          "output_type": "stream",
          "text": "fit toxic\n",
          "name": "stdout"
        },
        {
          "output_type": "stream",
          "text": "/opt/conda/lib/python3.6/site-packages/sklearn/linear_model/logistic.py:433: FutureWarning: Default solver will be changed to 'lbfgs' in 0.22. Specify a solver to silence this warning.\n  FutureWarning)\n",
          "name": "stderr"
        },
        {
          "output_type": "stream",
          "text": "fit severe_toxic\n",
          "name": "stdout"
        },
        {
          "output_type": "stream",
          "text": "/opt/conda/lib/python3.6/site-packages/sklearn/svm/base.py:931: ConvergenceWarning: Liblinear failed to converge, increase the number of iterations.\n  \"the number of iterations.\", ConvergenceWarning)\n",
          "name": "stderr"
        },
        {
          "output_type": "stream",
          "text": "fit obscene\nfit threat\nfit insult\nfit identity_hate\n",
          "name": "stdout"
        }
      ]
    },
    {
      "metadata": {
        "_cell_guid": "1a99c4d9-916f-4189-9a25-fedcb7700336",
        "_uuid": "5525045116474e6d12b6edc890250d30c0790f06"
      },
      "cell_type": "markdown",
      "source": "And finally, create the submission file."
    },
    {
      "metadata": {
        "_cell_guid": "bc6a4575-fbbb-47ea-81ac-91fa702dc194",
        "_uuid": "5dd033a93e6cf32cdbdaa0a8b05cd8d27de2b21d",
        "collapsed": true,
        "trusted": true
      },
      "cell_type": "code",
      "source": "submid = pd.DataFrame({'id': subm[\"id\"]})\nsubmission = pd.concat([submid, pd.DataFrame(preds, columns = label_cols)], axis=1)\nsubmission.to_csv('submission.csv', index=False)",
      "execution_count": null,
      "outputs": []
    },
    {
      "metadata": {
        "_cell_guid": "1c345d02-b768-491c-8c03-8c3459a552a8",
        "_uuid": "adbbfb0156952a6a43833e337b8a418ccac257aa",
        "trusted": true
      },
      "cell_type": "code",
      "source": "preds[0]",
      "execution_count": 32,
      "outputs": [
        {
          "output_type": "execute_result",
          "execution_count": 32,
          "data": {
            "text/plain": "array([0.99998783, 0.106266  , 0.99998669, 0.00236916, 0.96257808,\n       0.0949553 ])"
          },
          "metadata": {}
        }
      ]
    },
    {
      "metadata": {
        "trusted": true,
        "_uuid": "28b61e2e0490d6c7d18b847bfd997e87133a16d8"
      },
      "cell_type": "code",
      "source": "test_labels = pd.read_csv('../input/test_labels.csv')\ntest.tail()",
      "execution_count": 36,
      "outputs": [
        {
          "output_type": "execute_result",
          "execution_count": 36,
          "data": {
            "text/plain": "                      id                                       comment_text\n153159  fffcd0960ee309b5  . \\n i totally agree, this stuff is nothing bu...\n153160  fffd7a9a6eb32c16  == Throw from out field to home plate. == \\n\\n...\n153161  fffda9e8d6fafa9e  \" \\n\\n == Okinotorishima categories == \\n\\n I ...\n153162  fffe8f1340a79fc2  \" \\n\\n == \"\"One of the founding nations of the...\n153163  ffffce3fb183ee80  \" \\n :::Stop already. Your bullshit is not wel...",
            "text/html": "<div>\n<style scoped>\n    .dataframe tbody tr th:only-of-type {\n        vertical-align: middle;\n    }\n\n    .dataframe tbody tr th {\n        vertical-align: top;\n    }\n\n    .dataframe thead th {\n        text-align: right;\n    }\n</style>\n<table border=\"1\" class=\"dataframe\">\n  <thead>\n    <tr style=\"text-align: right;\">\n      <th></th>\n      <th>id</th>\n      <th>comment_text</th>\n    </tr>\n  </thead>\n  <tbody>\n    <tr>\n      <th>153159</th>\n      <td>fffcd0960ee309b5</td>\n      <td>. \\n i totally agree, this stuff is nothing bu...</td>\n    </tr>\n    <tr>\n      <th>153160</th>\n      <td>fffd7a9a6eb32c16</td>\n      <td>== Throw from out field to home plate. == \\n\\n...</td>\n    </tr>\n    <tr>\n      <th>153161</th>\n      <td>fffda9e8d6fafa9e</td>\n      <td>\" \\n\\n == Okinotorishima categories == \\n\\n I ...</td>\n    </tr>\n    <tr>\n      <th>153162</th>\n      <td>fffe8f1340a79fc2</td>\n      <td>\" \\n\\n == \"\"One of the founding nations of the...</td>\n    </tr>\n    <tr>\n      <th>153163</th>\n      <td>ffffce3fb183ee80</td>\n      <td>\" \\n :::Stop already. Your bullshit is not wel...</td>\n    </tr>\n  </tbody>\n</table>\n</div>"
          },
          "metadata": {}
        }
      ]
    },
    {
      "metadata": {
        "trusted": true,
        "_uuid": "ef2ed1583d56e57c45a6594bb17db88d3a7ef2c3"
      },
      "cell_type": "code",
      "source": "",
      "execution_count": null,
      "outputs": []
    }
  ],
  "metadata": {
    "kernelspec": {
      "display_name": "Python 3",
      "language": "python",
      "name": "python3"
    },
    "language_info": {
      "name": "python",
      "version": "3.6.6",
      "mimetype": "text/x-python",
      "codemirror_mode": {
        "name": "ipython",
        "version": 3
      },
      "pygments_lexer": "ipython3",
      "nbconvert_exporter": "python",
      "file_extension": ".py"
    }
  },
  "nbformat": 4,
  "nbformat_minor": 1
}