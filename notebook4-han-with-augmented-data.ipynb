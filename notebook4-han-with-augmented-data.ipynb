{
  "cells": [
    {
      "metadata": {
        "_uuid": "a587f1598b201b7f67fb2e40665f82e0e378804b"
      },
      "cell_type": "markdown",
      "source": "# Hierarchical Attention Network Approach\n\nMaking use of Attention and internal structure of the toxic comments\n\nPaper: http://www.cs.cmu.edu/~./hovy/papers/16HLT-hierarchical-attention-networks.pdf.\n\nCode was combined from available sources:\n* https://gist.github.com/cbaziotis/7ef97ccf71cbc14366835198c09809d2\n* https://github.com/richliao/textClassifier "
    },
    {
      "metadata": {
        "_cell_guid": "b1076dfc-b9ad-4769-8c92-a6c4dae69d19",
        "_uuid": "8f2839f25d086af736a60e9eeb907d3b93b6e0e5",
        "trusted": true
      },
      "cell_type": "code",
      "source": "\nimport numpy as np # linear algebra\nimport pandas as pd # data processing, CSV file I/O (e.g. pd.read_csv)\nnp.random.seed(42)\n\nimport os\nimport sys\nfrom keras import backend as K\nfrom keras.layers import Dense,Input, LSTM, Bidirectional, Embedding, TimeDistributed, SpatialDropout1D\nfrom keras.preprocessing import text, sequence\nfrom keras import initializers, regularizers, constraints, optimizers, layers, callbacks\nfrom keras.callbacks import EarlyStopping, ModelCheckpoint, Callback\nfrom keras.models import Model\nfrom keras.optimizers import Adam\nfrom keras import losses\nfrom keras import initializers as initializers, regularizers, constraints\nfrom sklearn.model_selection import train_test_split\nfrom sklearn.metrics import accuracy_score,roc_auc_score\nimport nltk\nimport re\nfrom keras.engine.topology import Layer\n\nimport warnings\nwarnings.filterwarnings('ignore')\n\nprint(os.listdir(\"../input\"))\n\n# Any results you write to the current directory are saved as output.",
      "execution_count": 46,
      "outputs": [
        {
          "output_type": "stream",
          "text": "['jigsaw-toxic-comment-classification-challenge', 'glove6b200d', 'glove840b300dtxt', 'toxic-comments-french-spanish-german-train']\n",
          "name": "stdout"
        }
      ]
    },
    {
      "metadata": {
        "_uuid": "26bebc50c5f4ed7d9c60630095fb73be59ef08fd"
      },
      "cell_type": "markdown",
      "source": "## Importing the Embedding and Data files\n\n * Using the augmented dataset here for all three languages\n * Using the GloVE 200-D word embeddings\n"
    },
    {
      "metadata": {
        "_cell_guid": "79c7e3d0-c299-4dcb-8224-4455121ee9b0",
        "_uuid": "d629ff2d2480ee46fbb7e2d37f6b5fab8052498a",
        "trusted": true
      },
      "cell_type": "code",
      "source": "#Embedding file\nEMBEDDING_FILE = '../input/glove6b200d/glove.6B.200d.txt'\n\n#Training Files\ntrain_en = pd.read_csv('../input/jigsaw-toxic-comment-classification-challenge/train.csv')\ntrain_fr = pd.read_csv('../input/toxic-comments-french-spanish-german-train/train_fr.csv')\ntrain_de = pd.read_csv('../input/toxic-comments-french-spanish-german-train/train_de.csv')\ntrain_es = pd.read_csv('../input/toxic-comments-french-spanish-german-train/train_es.csv')\ntrain = train_en.append(train_es.append(train_de.append(train_fr, ignore_index=True), ignore_index=True), ignore_index=True)\n\n#Testing Files\ntest = pd.read_csv('../input/jigsaw-toxic-comment-classification-challenge/test.csv')",
      "execution_count": 146,
      "outputs": []
    },
    {
      "metadata": {
        "_uuid": "2527b03bd26f8870b4d8dcc274c92006b52f3376"
      },
      "cell_type": "markdown",
      "source": "## Extracting text and the comment tags from the dataframe\n\n"
    },
    {
      "metadata": {
        "_cell_guid": "e8bd3575-f711-4ca6-a653-8ec1c74c0204",
        "_uuid": "cf43ac37cbd14d8baa088648c2275123550135d6",
        "trusted": true
      },
      "cell_type": "code",
      "source": "#Extracting the comments and removing the Empty comments and storing it as a numpy array \nlist_sentences_train = train[\"comment_text\"].fillna(\"_na_\").values\nlist_sentences_test = test[\"comment_text\"].fillna(\"_na_\").values\n\nlist_classes = [\"toxic\",\"severe_toxic\", \"obscene\", \"threat\", \"insult\", \"identity_hate\"]\n\n#Storing the sentences as a list\nX_train = train[\"comment_text\"].str.lower()\ny_train = train[list_classes].values\nX_test = test[\"comment_text\"].str.lower()",
      "execution_count": 147,
      "outputs": []
    },
    {
      "metadata": {
        "_cell_guid": "109e2eaa-3e0a-4946-8d5b-f2e280b6cf82",
        "_uuid": "52d244d1cc11be42e0fafcebf67efae787dc0839",
        "trusted": true
      },
      "cell_type": "code",
      "source": "#List of comments\nX_train = list(X_train)\nX_test = list(X_test)",
      "execution_count": 148,
      "outputs": []
    },
    {
      "metadata": {
        "trusted": true,
        "_uuid": "90871126cd7679434c9afb3e4f703802a55a0c8b"
      },
      "cell_type": "code",
      "source": "#Cleanup is needed to remove the special characters and the unnecessary spaces or newlines\nX_train[1]",
      "execution_count": 149,
      "outputs": [
        {
          "output_type": "execute_result",
          "execution_count": 149,
          "data": {
            "text/plain": "\"d'aww! he matches this background colour i'm seemingly stuck with. thanks.  (talk) 21:51, january 11, 2016 (utc)\""
          },
          "metadata": {}
        }
      ]
    },
    {
      "metadata": {
        "_uuid": "a27e303b56f2252d2caefc703382a21dfd2b0676"
      },
      "cell_type": "markdown",
      "source": "# Preparing Text Data\n\n## Data Cleanup\n\nOn noticing the above data we can see that the text data needs cleaning. \nThe various cleanup steps applied are:\n\n* Noise Removal, wherein we remove the unnecessary whitespaces and numerals from the text\n* Replace certain commonly used phrases and symbols with words that closely resemble them\n* Adjust text such as www as https which dont mean anything\n\n"
    },
    {
      "metadata": {
        "_cell_guid": "79aff1ae-b342-47d7-a912-24418b96e0e7",
        "_uuid": "f5076a2f3496e0fa1baf7e095724132e45f9ed11",
        "trusted": true
      },
      "cell_type": "code",
      "source": "#Removes unwanted symbols and whitespace from the text\ndef remove_noise(input_text):\n    text = re.sub('[\\\\t\\\\n\\\\r\\\\f\\\\v]','',input_text) #Removes unnecessary whitespaces\n    #text = re.sub(r'[^\\w\\s]','',text) #Removes all special characters like colons\n    text = text.split()\n    text = [re.sub('[\\d]+','',x) for x in text] #Removes numbers\n    return ' '.join(text) #Joins it back\n\n#Apply it to training and testing set\nfor i in range(len(X_train)):\n    X_train[i] = remove_noise(X_train[i])\nfor i in range(len(X_test)):\n    X_test[i] = remove_noise(X_test[i])",
      "execution_count": null,
      "outputs": []
    },
    {
      "metadata": {
        "trusted": true,
        "_uuid": "9e184b1d170053e1f5e03090954d9676fc6c345d"
      },
      "cell_type": "code",
      "source": "X_train[1] #Clean Text",
      "execution_count": 151,
      "outputs": [
        {
          "output_type": "execute_result",
          "execution_count": 151,
          "data": {
            "text/plain": "\"d'aww! he matches this background colour i'm seemingly stuck with. thanks. (talk) :, january ,  (utc)\""
          },
          "metadata": {}
        }
      ]
    },
    {
      "metadata": {
        "_cell_guid": "43173dca-e503-4bc9-8a82-b4b6a6fb806c",
        "_uuid": "d7a87d9b68c9e2a2a12d7046936bd850b64e55f3",
        "trusted": true
      },
      "cell_type": "code",
      "source": "#Replace some of the commonly occuring phrases and emojis with standard text \n#Text is closest in meaning to the emotion being expressed by the phrase or emoji\n\ndef replace_word(X):\n    repl = {\n        \"im\" : \" I am\",\"&lt;3\": \" good \",\":d\": \" good \",\":dd\": \" good \",\":p\": \" good \",\"8)\": \" good \",\":-)\": \" good \", \":)\": \" good \",\";)\": \" good \",\n        \"(-:\": \" good \",\"(:\": \" good \",\"yay!\": \" good \",\"yay\": \" good \",\"yaay\": \" good \",\"yaaay\": \" good \",\"yaaaay\": \" good \",\n        \"yaaaaay\": \" good \",\":/\": \" bad \",\":&gt;\": \" sad \",\":')\": \" sad \",\":-(\": \" bad \",\":(\": \" bad \", \":s\": \" bad \",\":-s\": \" bad \",\n        \"&lt;3\": \" heart \",\":d\": \" smile \",\":p\": \" smile \",\":dd\": \" smile \",\"8)\": \" smile \", \":-)\": \" smile \", \":)\": \" smile \",\n        \";)\": \" smile \",\"(-:\": \" smile \",\"(:\": \" smile \",\":/\": \" worry \",\":&gt;\": \" angry \", \":')\": \" sad \",\":-(\": \" sad \",\":(\": \" sad \",\n        \":s\": \" sad \", \":-s\": \" sad \",r\"\\br\\b\": \"are\",r\"\\bu\\b\": \"you\",r\"\\bhaha\\b\": \"ha\",r\"\\bhahaha\\b\": \"ha\",r\"\\bdon't\\b\": \"do not\",\n        r\"\\bdoesn't\\b\": \"does not\",r\"\\bdidn't\\b\": \"did not\",r\"\\bhasn't\\b\": \"has not\",r\"\\bhaven't\\b\": \"have not\",r\"\\bhadn't\\b\": \"had not\",\n        r\"\\bwon't\\b\": \"will not\",r\"\\bwouldn't\\b\": \"would not\",r\"\\bcan't\\b\": \"can not\",r\"\\bcannot\\b\": \"can not\",r\"\\bi'm\\b\": \"i am\",\n        \"m\": \"am\",\"r\": \"are\",\"u\": \"you\",\"haha\": \"ha\",\"hahaha\": \"ha\",\"don't\": \"do not\",\"doesn't\": \"does not\",\"didn't\": \"did not\",\n        \"hasn't\": \"has not\",\"haven't\": \"have not\",\"hadn't\": \"had not\",\"won't\": \"will not\",\"wouldn't\": \"would not\",\"can't\": \"can not\",\n        \"cannot\": \"can not\",\"i'm\": \"i am\",\"m\": \"am\",\"i'll\" : \"i will\",\"its\" : \"it is\",\"it's\" : \"it is\",\"'s\" : \" is\",\"that's\" : \"that is\",\n        \"weren't\" : \"were not\"\n    }\n    keys = repl.keys()\n    new_X = []\n    for i in X:\n        arr = str(i).split()\n        xx = \"\"\n        for j in arr:\n            j = str(j).lower()\n            if j[:4] == 'http' or j[:3] == 'www':\n                continue\n            if j in keys:\n                j = repl[j]\n            xx += j + \" \"\n        new_X.append(xx)\n    return new_X\n\nX_train = replace_word(X_train)\nX_test = replace_word(X_test)",
      "execution_count": 154,
      "outputs": []
    },
    {
      "metadata": {
        "trusted": true,
        "_uuid": "ed03bbf200862c67b1af899e27aae2b1a386eea7"
      },
      "cell_type": "code",
      "source": "X_train[1]",
      "execution_count": 155,
      "outputs": [
        {
          "output_type": "execute_result",
          "execution_count": 155,
          "data": {
            "text/plain": "\"d'aww! he matches this background colour i am seemingly stuck with. thanks. (talk) :, january , (utc) \""
          },
          "metadata": {}
        }
      ]
    },
    {
      "metadata": {
        "_cell_guid": "da409613-3688-4d2e-a072-f67dee02617b",
        "_uuid": "efad6a0ecd758a759f14287a69bfd9cafa8c8fb2",
        "trusted": true
      },
      "cell_type": "code",
      "source": "#Maximum number of words\nmax_features=200000\n#Maximum length of a sentence\nmax_senten_len=40\n#Maximum length of a comment\nmax_senten_num=10\n#Dimension of an embedding vector for the word representation\nembed_size=200",
      "execution_count": 156,
      "outputs": []
    },
    {
      "metadata": {
        "_uuid": "092983ac1b32d169d143299f8c2f31d6737b2651"
      },
      "cell_type": "markdown",
      "source": "## Sentence Tokenization\n\nTo work with the Hierarchical Attention Network, we need to establish a certain paradigm of hierarchy in the data.\nWe do so by introducing the following hierarchy:\n\n* Words -> Sentences\n* Sentences -> Comments/Documents\n\nThis hierarchy is used to establish the context learning via attention mechanism.\nWe first tokenize the data as sentences and ensure that each comment is represented as a list of sentences and that each sentence is represented as a list of words."
    },
    {
      "metadata": {
        "_cell_guid": "6f560b8e-fa4f-400f-b415-337ffc04f8cb",
        "_uuid": "799fd6b51a1415a4714ddaebf7d6435380c7c628",
        "trusted": true
      },
      "cell_type": "code",
      "source": "#Need to represent each comment as a list of sentences\n#Each comment can have a maximum of 5 sentences and each sentence can have a maximum of 40 words\n#Embedding size used is 200\n\n#The Following code block basically takes up a comment and assigns each comment to a 5-length list\n#Each element of the list is a sentence\ndef filt_sent(X,max_senten_num):\n    X_sent = []\n    sent_tokenizer = nltk.data.load('tokenizers/punkt/english.pickle')\n    for paragraph in X:\n        raw = sent_tokenizer.tokenize(paragraph)\n        filt = []\n        min_sent_len = 10 if len(raw) <= 10 else 10\n        for sentence in raw:\n            if len(sentence.split()) >= min_sent_len and len(filt) < max_senten_num:\n                filt.append(sentence)\n        while len(filt) < max_senten_num:\n            filt.append('_nan_')\n        X_sent.append(filt)\n    return X_sent",
      "execution_count": 157,
      "outputs": []
    },
    {
      "metadata": {
        "_uuid": "e7c737bfbc69ae74a13243f21f2cd845816ed8c6"
      },
      "cell_type": "markdown",
      "source": "### Sentence Tokenization Details:\n\nWe assign the maximum sentence length as 10 based on the reasoning that most sentences are of length less than 10.\nThis can be seen from the visualization and analysis done here."
    },
    {
      "metadata": {
        "trusted": true,
        "_uuid": "e433c1acbc8f430659117cc93784f8a69f6609bb"
      },
      "cell_type": "code",
      "source": "s_t = nltk.data.load('tokenizers/punkt/english.pickle')\ncounts = []\n\nfor i in range(len(X_train)):\n    raw = s_t.tokenize(X_train[i])\n    counts.append(len(raw))\n\nplt.plot(counts)\nplt.xlabel(\"Comments\")\nplt.ylabel(\"Length of comments\")\nplt.title(\"Length of comments\")\nplt.show()",
      "execution_count": 142,
      "outputs": [
        {
          "output_type": "display_data",
          "data": {
            "text/plain": "<Figure size 432x288 with 1 Axes>",
            "image/png": "[encoded data removed]"
          },
          "metadata": {}
        }
      ]
    },
    {
      "metadata": {
        "_cell_guid": "eed8323c-9d4e-4d39-b07a-dd91d915c2dc",
        "_uuid": "6d479f5e37f5990ea13f8cfbf69f4be9d3ff2f90",
        "trusted": true
      },
      "cell_type": "code",
      "source": "#Getting a list of lists where each of the inner lists is a 10-d list of sentences\nX_train_sent = filt_sent(X_train ,max_senten_num)\nX_test_sent = filt_sent(X_test, max_senten_num)",
      "execution_count": 158,
      "outputs": []
    },
    {
      "metadata": {
        "trusted": true,
        "scrolled": true,
        "_uuid": "d8ca48c185c492bb32aa6674329c9feb9017a39d"
      },
      "cell_type": "code",
      "source": "X_train_sent[1]\n#len(X_train_sent[1])",
      "execution_count": 162,
      "outputs": [
        {
          "output_type": "execute_result",
          "execution_count": 162,
          "data": {
            "text/plain": "['he matches this background colour i am seemingly stuck with.',\n '_nan_',\n '_nan_',\n '_nan_',\n '_nan_',\n '_nan_',\n '_nan_',\n '_nan_',\n '_nan_',\n '_nan_']"
          },
          "metadata": {}
        }
      ]
    },
    {
      "metadata": {
        "_uuid": "036d705270e28aa8375b3e2c36c168edf05bfc77"
      },
      "cell_type": "markdown",
      "source": "### Word tokenization\n\n* Now we use the entire training and test vectors to tokenize the words.\n* This tokenization technique ensures that each word has an index associated with it.\n"
    },
    {
      "metadata": {
        "_cell_guid": "7a665c08-b4a9-4792-b40b-481b3da907e5",
        "_uuid": "b07e998ccedaf3aaaf4b4e67b207ad5490eb24f7",
        "trusted": true
      },
      "cell_type": "code",
      "source": "#Need to tokenize words now\ntok=text.Tokenizer(num_words=max_features,lower=True)\n#Tokenizes on the combined corpus of train and text\ntok.fit_on_texts(list(X_train)+list(X_test))\nfor i in range(len(X_train_sent)):\n        X_train_sent[i] = tok.texts_to_sequences(X_train_sent[i])\n        X_train_sent[i] = sequence.pad_sequences(X_train_sent[i],maxlen=max_senten_len) #padding to ensure similar sized representation for each sentence\nfor i in range(len(X_test_sent)):\n        X_test_sent[i] = tok.texts_to_sequences(X_test_sent[i])\n        X_test_sent[i] = sequence.pad_sequences(X_test_sent[i],maxlen=max_senten_len) #padding to ensure similar sized representation for each sentence",
      "execution_count": 163,
      "outputs": []
    },
    {
      "metadata": {
        "trusted": true,
        "_uuid": "3009db6ded03aaaf72c43b7f24ea31d52b256720"
      },
      "cell_type": "code",
      "source": "#A dictionary of the words and indices based on the above text corpus\nword_index = tok.word_index\nlen(word_index)",
      "execution_count": 164,
      "outputs": [
        {
          "output_type": "execute_result",
          "execution_count": 164,
          "data": {
            "text/plain": "486379"
          },
          "metadata": {}
        }
      ]
    },
    {
      "metadata": {
        "trusted": true,
        "_uuid": "b977dca43ac03012d0b7e1e07650029a245b15c2"
      },
      "cell_type": "code",
      "source": "print(word_index[\"thanks\"],word_index[\"good\"],word_index[\"hate\"], sep=\" ; \")",
      "execution_count": 165,
      "outputs": [
        {
          "output_type": "stream",
          "text": "113 ; 84 ; 373\n",
          "name": "stdout"
        }
      ]
    },
    {
      "metadata": {
        "trusted": true,
        "_uuid": "8a4f38c728054f54f06cf2de0ca50b45c44248cd"
      },
      "cell_type": "code",
      "source": "X_train_sent[1][0]",
      "execution_count": 166,
      "outputs": [
        {
          "output_type": "execute_result",
          "execution_count": 166,
          "data": {
            "text/plain": "array([   0,    0,    0,    0,    0,    0,    0,    0,    0,    0,    0,\n          0,    0,    0,    0,    0,    0,    0,    0,    0,    0,    0,\n          0,    0,    0,    0,    0,    0,    0,    0,   47, 2800,   14,\n        484, 6737,    4,   40, 4754, 1194,   23], dtype=int32)"
          },
          "metadata": {}
        }
      ]
    },
    {
      "metadata": {
        "_uuid": "9b1d2d8dfd9ae17d3128210dbf40c8221fd5f620"
      },
      "cell_type": "markdown",
      "source": "## Embedding Matrix Generation\n\n* We use the GloVE 200-dimensional word embedding trained on Wikipedia crawl data\n* For words that are not present in the Embedding file, they are assigned a random embedding vector based on a normalised distribution of the glove file\n* At the end of this section we will have the embedding matrix of length Max-features which is 200k"
    },
    {
      "metadata": {
        "_cell_guid": "9e57a7cb-c061-4361-bbe2-05c0486a3f18",
        "_uuid": "9488bc9d68dfd1fde1f99d23a9f1ed7b30ceb87f",
        "trusted": true
      },
      "cell_type": "code",
      "source": "embeddings_index={}\n\nf = open(EMBEDDING_FILE)\nfor line in f:\n    values = line.split()\n    word = values[0]\n    coefs = np.asarray(values[1:],dtype='float32')\n    embeddings_index[word] = coefs\n\nf.close()\nprint('Found %s word vectors.'%len(embeddings_index))",
      "execution_count": 167,
      "outputs": [
        {
          "output_type": "stream",
          "text": "Found 400000 word vectors.\n",
          "name": "stdout"
        }
      ]
    },
    {
      "metadata": {
        "trusted": true,
        "_uuid": "9c2d1d81b611ae920cca255ac0d0305322a0f932"
      },
      "cell_type": "code",
      "source": "all_embeddings = np.stack(embeddings_index.values())\n\nemb_mean= all_embeddings.mean()\nemb_stddev = all_embeddings.std()\n\nnp.shape(all_embeddings)",
      "execution_count": 168,
      "outputs": [
        {
          "output_type": "execute_result",
          "execution_count": 168,
          "data": {
            "text/plain": "(400000, 200)"
          },
          "metadata": {}
        }
      ]
    },
    {
      "metadata": {
        "_cell_guid": "e2490100-fc9c-4e46-ae84-7dfa65fcddba",
        "_uuid": "d56ad119931a971b2588355deb726a045764c9ad",
        "trusted": true
      },
      "cell_type": "code",
      "source": "#prepare embedding matrix\nnum_words = min(max_features, len(word_index) + 1)\nembedding_matrix = np.random.normal(emb_mean, emb_stddev, (num_words, embed_size))\nfor word, i in word_index.items():\n    if i >= max_features:\n        continue\n    embedding_vector = embeddings_index.get(word)\n    if embedding_vector is not None:\n        # words not found in embedding index will be all-zeros.\n        embedding_matrix[i] = embedding_vector\n        \nnp.shape(embedding_matrix)",
      "execution_count": 169,
      "outputs": [
        {
          "output_type": "execute_result",
          "execution_count": 169,
          "data": {
            "text/plain": "(200000, 200)"
          },
          "metadata": {}
        }
      ]
    },
    {
      "metadata": {
        "_uuid": "1b38ddd1460da6ac019136750c08ecf5618fbe87"
      },
      "cell_type": "markdown",
      "source": "## Hierarchical Attention Model"
    },
    {
      "metadata": {
        "_cell_guid": "43944725-1842-4093-a2fd-8701d09c9200",
        "_uuid": "269daf8e81503a014262929fbe984b4a15984df5",
        "trusted": true
      },
      "cell_type": "code",
      "source": "def dot_product(x, kernel):\n    \"\"\"\n    Wrapper for dot product operation, in order to be compatible with both\n    Theano and Tensorflow\n    Args:\n        x (): input\n        kernel (): weights\n    Returns:\n    \"\"\"\n    if K.backend() == 'tensorflow':\n        return K.squeeze(K.dot(x, K.expand_dims(kernel)), axis=-1)\n    else:\n        return K.dot(x, kernel)\n\nclass AttentionWithContext(Layer):\n    \"\"\"\n    Attention operation, with a context/query vector, for temporal data.\n    Supports Masking.\n    Follows the work of Yang et al. [https://www.cs.cmu.edu/~diyiy/docs/naacl16.pdf]\n    \"Hierarchical Attention Networks for Document Classification\"\n    by using a context vector to assist the attention\n    # Input shape\n        3D tensor with shape: `(samples, steps, features)`.\n    # Output shape\n        2D tensor with shape: `(samples, features)`.\n    How to use:\n    Just put it on top of an RNN Layer (GRU/LSTM/SimpleRNN) with return_sequences=True.\n    The dimensions are inferred based on the output shape of the RNN.\n    Note: The layer has been tested with Keras 2.0.6\n    Example:\n        model.add(LSTM(64, return_sequences=True))\n        model.add(AttentionWithContext())\n        # next add a Dense layer (for classification/regression) or whatever...\n    \"\"\"\n\n    def __init__(self,\n                 W_regularizer=None, u_regularizer=None, b_regularizer=None,\n                 W_constraint=None, u_constraint=None, b_constraint=None,\n                 bias=True, **kwargs):\n\n        self.supports_masking = True\n        self.init = initializers.get('glorot_uniform')\n\n        self.W_regularizer = regularizers.get(W_regularizer)\n        self.u_regularizer = regularizers.get(u_regularizer)\n        self.b_regularizer = regularizers.get(b_regularizer)\n\n        self.W_constraint = constraints.get(W_constraint)\n        self.u_constraint = constraints.get(u_constraint)\n        self.b_constraint = constraints.get(b_constraint)\n\n        self.bias = bias\n        super(AttentionWithContext, self).__init__(**kwargs)\n\n    def build(self, input_shape):\n        assert len(input_shape) == 3\n\n        self.W = self.add_weight((input_shape[-1], input_shape[-1],),\n                                 initializer=self.init,\n                                 name='{}_W'.format(self.name),\n                                 regularizer=self.W_regularizer,\n                                 constraint=self.W_constraint)\n        if self.bias:\n            self.b = self.add_weight((input_shape[-1],),\n                                     initializer='zero',\n                                     name='{}_b'.format(self.name),\n                                     regularizer=self.b_regularizer,\n                                     constraint=self.b_constraint)\n\n        self.u = self.add_weight((input_shape[-1],),\n                                 initializer=self.init,\n                                 name='{}_u'.format(self.name),\n                                 regularizer=self.u_regularizer,\n                                 constraint=self.u_constraint)\n\n        super(AttentionWithContext, self).build(input_shape)\n\n    def compute_mask(self, input, input_mask=None):\n        # do not pass the mask to the next layers\n        return None\n\n    def call(self, x, mask=None):\n        uit = dot_product(x, self.W)\n\n        if self.bias:\n            uit += self.b\n\n        uit = K.tanh(uit)\n        ait = dot_product(uit, self.u)\n\n        a = K.exp(ait)\n\n        # apply mask after the exp. will be re-normalized next\n        if mask is not None:\n            # Cast the mask to floatX to avoid float64 upcasting in theano\n            a *= K.cast(mask, K.floatx())\n\n        # in some cases especially in the early stages of training the sum may be almost zero\n        # and this results in NaN's. A workaround is to add a very small positive number ε to the sum.\n        # a /= K.cast(K.sum(a, axis=1, keepdims=True), K.floatx())\n        a /= K.cast(K.sum(a, axis=1, keepdims=True) + K.epsilon(), K.floatx())\n\n        a = K.expand_dims(a)\n        weighted_input = x * a\n        return K.sum(weighted_input, axis=1)\n\n    def compute_output_shape(self, input_shape):\n        return input_shape[0], input_shape[-1]",
      "execution_count": 170,
      "outputs": []
    },
    {
      "metadata": {
        "_cell_guid": "f27e0264-d863-450a-902a-395f265242f3",
        "_uuid": "78f033922530bb7687ca2a65179c9c17802753a3",
        "trusted": true
      },
      "cell_type": "code",
      "source": "class RocAucEvaluation(Callback):\n    def __init__(self, validation_data=(), interval=1):\n        super(Callback, self).__init__()\n\n        self.interval = interval\n        self.X_val, self.y_val = validation_data\n\n    def on_epoch_end(self, epoch, logs={}):\n        if epoch % self.interval == 0:\n            y_pred = self.model.predict(self.X_val, verbose=0)\n            score = roc_auc_score(self.y_val, y_pred)\n            print(\"\\n ROC-AUC - epoch: %d - score: %.6f \\n\" % (epoch+1, score))",
      "execution_count": 171,
      "outputs": []
    },
    {
      "metadata": {
        "_cell_guid": "fc02de57-3ce5-4f78-b66d-15538b57f90e",
        "_uuid": "19ffa659d304c2a406e566ca0abfb083dfad75a6",
        "trusted": true
      },
      "cell_type": "code",
      "source": "embedding_layer = Embedding(max_features,\n                            embed_size,\n                            input_length=max_senten_len,\n                            weights=[embedding_matrix])\n\nword_input = Input(shape=(max_senten_len,), dtype='int32')\nword = embedding_layer(word_input)\nword = SpatialDropout1D(0.2)(word)\nword = Bidirectional(LSTM(128, return_sequences=True))(word)\nword_out = AttentionWithContext()(word)\nwordEncoder = Model(word_input, word_out)\n\nsente_input = Input(shape=(max_senten_num, max_senten_len), dtype='int32')\nsente = TimeDistributed(wordEncoder)(sente_input)\nsente = SpatialDropout1D(0.2)(sente)\nsente = Bidirectional(LSTM(128, return_sequences=True))(sente)\nsente = AttentionWithContext()(sente)\npreds = Dense(6, activation='sigmoid')(sente)\nmodel = Model(sente_input, preds)\nopt = Adam(clipnorm=5.0)\n\nmodel.compile(loss='binary_crossentropy',\n              optimizer=opt,\n              metrics=['acc'])",
      "execution_count": 172,
      "outputs": []
    },
    {
      "metadata": {
        "_cell_guid": "90727db5-d597-4100-9e65-aba6e5d75791",
        "_uuid": "4861f4e238ebb34e1b1a09822ae52ed8081a5d91",
        "trusted": true
      },
      "cell_type": "code",
      "source": "X_train_sent = np.asarray(X_train_sent)\nX_test_sent = np.asarray(X_test_sent)\nprint('Shape of data tensor:', X_train_sent.shape)",
      "execution_count": 173,
      "outputs": [
        {
          "output_type": "stream",
          "text": "Shape of data tensor: (638284, 10, 40)\n",
          "name": "stdout"
        }
      ]
    },
    {
      "metadata": {
        "trusted": true,
        "_uuid": "14b96d06a708b296f1a637ba2632e180da6689ff"
      },
      "cell_type": "code",
      "source": "model.summary()",
      "execution_count": 174,
      "outputs": [
        {
          "output_type": "stream",
          "text": "_________________________________________________________________\nLayer (type)                 Output Shape              Param #   \n=================================================================\ninput_6 (InputLayer)         (None, 10, 40)            0         \n_________________________________________________________________\ntime_distributed_3 (TimeDist (None, 10, 256)           40402944  \n_________________________________________________________________\nspatial_dropout1d_6 (Spatial (None, 10, 256)           0         \n_________________________________________________________________\nbidirectional_6 (Bidirection (None, 10, 256)           394240    \n_________________________________________________________________\nattention_with_context_6 (At (None, 256)               66048     \n_________________________________________________________________\ndense_3 (Dense)              (None, 6)                 1542      \n=================================================================\nTotal params: 40,864,774\nTrainable params: 40,864,774\nNon-trainable params: 0\n_________________________________________________________________\n",
          "name": "stdout"
        }
      ]
    },
    {
      "metadata": {
        "_cell_guid": "58d507b5-2741-4f49-a547-253504370475",
        "_uuid": "4a8a9f1a9b4a16e7d4b0d6867758ffec0d9e2371",
        "trusted": true,
        "scrolled": true
      },
      "cell_type": "code",
      "source": "batch_size = 256\nepochs = 5\n\nX_tra, X_val, y_tra, y_val = train_test_split(X_train_sent, y_train, train_size=0.95, random_state=233)\nRocAuc = RocAucEvaluation(validation_data=(X_val, y_val), interval=1)\nfilepath=\"weights_base.best.hdf5\"\ncheckpoint = ModelCheckpoint(filepath, monitor='val_acc', verbose=1, save_best_only=True, mode='max', save_weights_only=True)\nearly = EarlyStopping(monitor=\"val_acc\", mode=\"max\", patience=5)\ncallbacks_list = [checkpoint, early, RocAuc]\n\nhistory = model.fit(X_tra, y_tra, batch_size=batch_size, epochs=epochs, validation_data=(X_val, y_val),callbacks = callbacks_list, verbose=1)",
      "execution_count": 175,
      "outputs": [
        {
          "output_type": "stream",
          "text": "Train on 606369 samples, validate on 31915 samples\nEpoch 1/5\n606369/606369 [==============================] - 1424s 2ms/step - loss: 0.0919 - acc: 0.9713 - val_loss: 0.0778 - val_acc: 0.9740\n\nEpoch 00001: val_acc improved from -inf to 0.97401, saving model to weights_base.best.hdf5\n\n ROC-AUC - epoch: 1 - score: 0.934580 \n\nEpoch 2/5\n606369/606369 [==============================] - 1413s 2ms/step - loss: 0.0727 - acc: 0.9758 - val_loss: 0.0707 - val_acc: 0.9763\n\nEpoch 00002: val_acc improved from 0.97401 to 0.97634, saving model to weights_base.best.hdf5\n\n ROC-AUC - epoch: 2 - score: 0.945815 \n\nEpoch 3/5\n606369/606369 [==============================] - 1413s 2ms/step - loss: 0.0655 - acc: 0.9782 - val_loss: 0.0665 - val_acc: 0.9779\n\nEpoch 00003: val_acc improved from 0.97634 to 0.97791, saving model to weights_base.best.hdf5\n\n ROC-AUC - epoch: 3 - score: 0.950674 \n\nEpoch 4/5\n606369/606369 [==============================] - 1414s 2ms/step - loss: 0.0598 - acc: 0.9803 - val_loss: 0.0646 - val_acc: 0.9791\n\nEpoch 00004: val_acc improved from 0.97791 to 0.97912, saving model to weights_base.best.hdf5\n\n ROC-AUC - epoch: 4 - score: 0.952913 \n\nEpoch 5/5\n606369/606369 [==============================] - 1414s 2ms/step - loss: 0.0552 - acc: 0.9821 - val_loss: 0.0622 - val_acc: 0.9803\n\nEpoch 00005: val_acc improved from 0.97912 to 0.98033, saving model to weights_base.best.hdf5\n\n ROC-AUC - epoch: 5 - score: 0.956444 \n\n",
          "name": "stdout"
        }
      ]
    },
    {
      "metadata": {
        "scrolled": false,
        "_cell_guid": "265115a8-296e-4b67-a6fc-02d0a584b501",
        "_uuid": "f7377e50952ffb6cc14bab3b34442788864eed68",
        "trusted": true
      },
      "cell_type": "code",
      "source": "y_pred = model.predict(X_test_sent,batch_size=1024,verbose=1)",
      "execution_count": 177,
      "outputs": [
        {
          "output_type": "stream",
          "text": "153164/153164 [==============================] - 69s 452us/step\n",
          "name": "stdout"
        }
      ]
    },
    {
      "metadata": {
        "_cell_guid": "5c703574-cf76-495f-b800-1fc6c9384ded",
        "_uuid": "ddc5afff4b22841fb184e32cc4b19a2225dec451",
        "trusted": true
      },
      "cell_type": "code",
      "source": "'''submission = pd.read_csv('../input/jigsaw-toxic-comment-classification-challenge/sample_submission.csv')\nsubmission[[\"toxic\", \"severe_toxic\", \"obscene\", \"threat\", \"insult\", \"identity_hate\"]] = y_pred\nsubmission.to_csv('submission.csv', index=False)'''",
      "execution_count": 179,
      "outputs": [
        {
          "output_type": "execute_result",
          "execution_count": 179,
          "data": {
            "text/plain": "'submission = pd.read_csv(\\'../input/jigsaw-toxic-comment-classification-challenge/sample_submission.csv\\')\\nsubmission[[\"toxic\", \"severe_toxic\", \"obscene\", \"threat\", \"insult\", \"identity_hate\"]] = y_pred\\nsubmission.to_csv(\\'submission.csv\\', index=False)'"
          },
          "metadata": {}
        }
      ]
    },
    {
      "metadata": {
        "_uuid": "80861d5733d404ebddaa84f9a3761eccb1085e9d"
      },
      "cell_type": "markdown",
      "source": "## Plotting Model Accuracy and Loss\n\nOne can see that the Model begins to overfit by the end of the third epoch"
    },
    {
      "metadata": {
        "_cell_guid": "78885dfc-dcbc-45f8-8be9-4ca9249f7986",
        "_uuid": "0f0aa330f8e577d28e1561be894156b4502dc06e",
        "trusted": true
      },
      "cell_type": "code",
      "source": "import matplotlib.pyplot as plt\nimport matplotlib.gridspec as gridspec\n#print(history.history.keys())\n\n\nplt.figure(figsize=(16,3))\nplt.suptitle('Accuracy and Loss Comparison')\n\ngridspec.GridSpec(1,2)\nplt.subplot2grid((1,2),(0,0))\nplt.plot(history.history['acc'])\nplt.plot(history.history['val_acc'])\nplt.title('Augmented Model accuracy')\nplt.xlabel('epoch')\nplt.ylabel('accuracy')\nplt.legend(['train','test'],loc='upper left')\n\n\nplt.subplot2grid((1,2),(0,1))\nplt.plot(history.history['loss'])\nplt.plot(history.history['val_loss'])\nplt.title('Augmented Model loss')\nplt.xlabel('epoch')\nplt.ylabel('loss')\nplt.legend(['train','test'],loc='upper left')",
      "execution_count": 178,
      "outputs": [
        {
          "output_type": "execute_result",
          "execution_count": 178,
          "data": {
            "text/plain": "<matplotlib.legend.Legend at 0x7f643ebd0e48>"
          },
          "metadata": {}
        },
        {
          "output_type": "display_data",
          "data": {
            "text/plain": "<Figure size 1152x216 with 2 Axes>",
            "image/png": "[encoded data removed]"
          },
          "metadata": {}
        }
      ]
    }
  ],
  "metadata": {
    "kernelspec": {
      "display_name": "Python 3",
      "language": "python",
      "name": "python3"
    },
    "language_info": {
      "name": "python",
      "version": "3.6.6",
      "mimetype": "text/x-python",
      "codemirror_mode": {
        "name": "ipython",
        "version": 3
      },
      "pygments_lexer": "ipython3",
      "nbconvert_exporter": "python",
      "file_extension": ".py"
    }
  },
  "nbformat": 4,
  "nbformat_minor": 1
}